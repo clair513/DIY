{
 "cells": [
  {
   "cell_type": "code",
   "execution_count": null,
   "metadata": {},
   "outputs": [],
   "source": [
    "# Loading required libraries:\n",
    "import numpy as np\n",
    "import cv2\n",
    "\n",
    "# Paths for the model files \n",
    "protoFile = \"D:/Study Material/Data_Science/DIY/Coloring Black & White Images with Deep Learning/model/colorization_deploy_v2.prototxt\"\n",
    "weightsFile = \"D:/Study Material/Data_Science/DIY/Coloring Black & White Images with Deep Learning/model/colorization_release_v2.caffemodel\"\n",
    "points = np.load(\"D:/Study Material/Data_Science/DIY/Coloring Black & White Images with Deep Learning/model/pts_in_hull.npy\")\n",
    "\n",
    "# Read input image:\n",
    "img = cv2.imread(\"D:/Study Material/Data_Science/DIY/Coloring Black & White Images with Deep Learning/images/lion.jpg\")\n",
    "\n",
    "W_in = 224\n",
    "H_in = 224\n",
    " \n",
    "# Read network & bin centers into Memory: \n",
    "net = cv2.dnn.readNetFromCaffe(protoFile, weightsFile)\n",
    "points = points.transpose().reshape(2, 313, 1, 1)\n",
    "net.getLayer(net.getLayerId('class8_ab')).blobs = [points.astype(np.float32)]\n",
    "net.getLayer(net.getLayerId('conv8_313_rh')).blobs = [np.full([1, 313], 2.606, np.float32)]\n",
    "\n",
    "#Convert RGB values of Input image to range of 0 to 1:\n",
    "img_rgb = (img[:,:,[2, 1, 0]] * 1.0 / 255).astype(np.float32)\n",
    "img_lab = cv2.cvtColor(img_rgb, cv2.COLOR_RGB2Lab)\n",
    "img_l = img_lab[:,:,0] # pull out Lightness channel\n",
    "\n",
    "# Resizing Lightness channel to network input size: \n",
    "img_l_rs = cv2.resize(img_l, (W_in, H_in))\n",
    "img_l_rs -= 50 #Mean-centering\n",
    "\n",
    "net.setInput(cv2.dnn.blobFromImage(img_l_rs))\n",
    "result = net.forward()[0,:,:,:].transpose((1,2,0))\n",
    " \n",
    "(H,W) = img_rgb.shape[:2]\n",
    "result_us = cv2.resize(result, (W,H))\n",
    "\n",
    "# Concatenating original image Lightness:\n",
    "lab_output = np.concatenate((img_l[:,:,np.newaxis],result_us),axis=2)\n",
    "colorized = np.clip(cv2.cvtColor(lab_output, cv2.COLOR_Lab2BGR), 0,1)\n",
    "\n",
    "# Display and save output colorized images:\n",
    "cv2.imwrite(\"Colorized Image.jpg\", colorized)\n",
    "cv2.imshow(\"Colorized Image\", colorized)\n",
    "cv2.waitKey(0)"
   ]
  },
  {
   "cell_type": "code",
   "execution_count": null,
   "metadata": {},
   "outputs": [],
   "source": []
  }
 ],
 "metadata": {
  "kernelspec": {
   "display_name": "Python 3",
   "language": "python",
   "name": "python3"
  },
  "language_info": {
   "codemirror_mode": {
    "name": "ipython",
    "version": 3
   },
   "file_extension": ".py",
   "mimetype": "text/x-python",
   "name": "python",
   "nbconvert_exporter": "python",
   "pygments_lexer": "ipython3",
   "version": "3.6.6"
  }
 },
 "nbformat": 4,
 "nbformat_minor": 2
}
