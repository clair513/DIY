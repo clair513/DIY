{
 "cells": [
  {
   "cell_type": "markdown",
   "metadata": {},
   "source": [
    "# Manipulation of PDF Files using Python"
   ]
  },
  {
   "cell_type": "markdown",
   "metadata": {},
   "source": [
    "## Splitting PDF File into individual pages:"
   ]
  },
  {
   "cell_type": "code",
   "execution_count": 5,
   "metadata": {},
   "outputs": [
    {
     "name": "stdout",
     "output_type": "stream",
     "text": [
      "Created: chaos_prediction_page_1.pdf\n",
      "Created: chaos_prediction_page_2.pdf\n",
      "Created: chaos_prediction_page_3.pdf\n",
      "Created: chaos_prediction_page_4.pdf\n",
      "Created: chaos_prediction_page_5.pdf\n",
      "Created: chaos_prediction_page_6.pdf\n",
      "Created: chaos_prediction_page_7.pdf\n"
     ]
    }
   ],
   "source": [
    "import os\n",
    "from PyPDF2 import PdfFileReader, PdfFileWriter\n",
    " \n",
    " \n",
    "def pdf_splitter(path):\n",
    "    filename = os.path.splitext(os.path.basename(path))[0]\n",
    " \n",
    "    pdf = PdfFileReader(path)\n",
    "    for page in range(pdf.getNumPages()):\n",
    "        pdf_writer = PdfFileWriter()\n",
    "        pdf_writer.addPage(pdf.getPage(page))\n",
    " \n",
    "        output = '{}_page_{}.pdf'.format(filename, page+1)\n",
    " \n",
    "        with open(output, 'wb') as f:\n",
    "            pdf_writer.write(f)\n",
    " \n",
    "        print(f'Created: {output}')\n",
    " \n",
    "if __name__ == '__main__':\n",
    "    path = 'D:/CRITICAL/New_Desktop/chaos_prediction.pdf'\n",
    "    pdf_splitter(path)"
   ]
  },
  {
   "cell_type": "markdown",
   "metadata": {},
   "source": [
    "## Merging individual pages into a PDF File:"
   ]
  },
  {
   "cell_type": "code",
   "execution_count": 3,
   "metadata": {},
   "outputs": [
    {
     "name": "stdout",
     "output_type": "stream",
     "text": [
      "Merged file created!\n"
     ]
    }
   ],
   "source": [
    "import glob\n",
    "from PyPDF2 import PdfFileWriter, PdfFileReader\n",
    " \n",
    "def pdf_merger(output_path, input_paths):\n",
    "    pdf_writer = PdfFileWriter()\n",
    " \n",
    "    for path in input_paths:\n",
    "        pdf_reader = PdfFileReader(path)\n",
    "        for page in range(pdf_reader.getNumPages()):\n",
    "            pdf_writer.addPage(pdf_reader.getPage(page))\n",
    " \n",
    "    with open(output_path, 'wb') as f:\n",
    "        pdf_writer.write(f)\n",
    " \n",
    " \n",
    "if __name__ == '__main__':\n",
    "    paths = glob.glob('D:/CRITICAL/New_Desktop/chaos_prediction_*.pdf')\n",
    "    paths.sort()\n",
    "    pdf_merger('chaos_prediction_new.pdf', paths)\n",
    "    print(\"Merged file created!\")"
   ]
  },
  {
   "cell_type": "markdown",
   "metadata": {},
   "source": [
    "## Rotating PDF page to left/right based on rotation(270/90):"
   ]
  },
  {
   "cell_type": "code",
   "execution_count": 4,
   "metadata": {},
   "outputs": [],
   "source": [
    "import PyPDF2 \n",
    "  \n",
    "def pdf_rotater(orig_file, new_file, rotation): \n",
    "    pdfFileObj = open(orig_file, 'rb')\n",
    "    pdfReader = PyPDF2.PdfFileReader(pdfFileObj)\n",
    "    pdfWriter = PyPDF2.PdfFileWriter()\n",
    "    \n",
    "    # Rotating each page: \n",
    "    for page in range(pdfReader.numPages):\n",
    "        pageObj = pdfReader.getPage(page)\n",
    "        pageObj.rotateClockwise(rotation)\n",
    "        pdfWriter.addPage(pageObj)\n",
    "        \n",
    "    newFile = open(new_file, 'wb')\n",
    "    pdfWriter.write(newFile)\n",
    "    pdfFileObj.close()\n",
    "    newFile.close()\n",
    "\n",
    "\n",
    "if __name__=='__main__': \n",
    "    # Source file path: \n",
    "    orig_file= 'D:/CRITICAL/New_Desktop/chaos_prediction.pdf'\n",
    "    # Destination file path:\n",
    "    new_file= 'D:/CRITICAL/New_Desktop/rotated_chaos.pdf'\n",
    "    # Rotation angle:\n",
    "    rotation = 270\n",
    "    \n",
    "    pdf_rotater(orig_file, new_file, rotation)"
   ]
  },
  {
   "cell_type": "markdown",
   "metadata": {},
   "source": [
    "## Splitting PDF File into individual pages based on Index preference:"
   ]
  },
  {
   "cell_type": "code",
   "execution_count": 7,
   "metadata": {},
   "outputs": [],
   "source": [
    "# importing the required modules \n",
    "import PyPDF2 \n",
    "  \n",
    "def pdf_index_split(pdf, splits): \n",
    "    pdfFileObj = open(pdf, 'rb')\n",
    "    pdfReader = PyPDF2.PdfFileReader(pdfFileObj)\n",
    "    start = 0 \n",
    "    end = splits[0]\n",
    "      \n",
    "    for i in range(len(splits)+1): \n",
    "        pdfWriter = PyPDF2.PdfFileWriter()\n",
    "        outputpdf = pdf.split('.pdf')[0] + str(i) + '.pdf'\n",
    "        for page in range(start,end):\n",
    "            pdfWriter.addPage(pdfReader.getPage(page))\n",
    "        with open(outputpdf, \"wb\") as f:\n",
    "            pdfWriter.write(f) \n",
    "        start = end\n",
    "        try:\n",
    "            end = splits[i+1]\n",
    "        except IndexError:\n",
    "            end = pdfReader.numPages\n",
    "    pdfFileObj.close()\n",
    "  \n",
    "if __name__=='__main__':\n",
    "    pdf = 'D:/CRITICAL/New_Desktop/chaos_prediction.pdf'\n",
    "    splits = [2,4]\n",
    "    pdf_index_split(pdf, splits)"
   ]
  },
  {
   "cell_type": "code",
   "execution_count": null,
   "metadata": {},
   "outputs": [],
   "source": []
  }
 ],
 "metadata": {
  "kernelspec": {
   "display_name": "Python 3",
   "language": "python",
   "name": "python3"
  },
  "language_info": {
   "codemirror_mode": {
    "name": "ipython",
    "version": 3
   },
   "file_extension": ".py",
   "mimetype": "text/x-python",
   "name": "python",
   "nbconvert_exporter": "python",
   "pygments_lexer": "ipython3",
   "version": "3.6.6"
  }
 },
 "nbformat": 4,
 "nbformat_minor": 2
}
